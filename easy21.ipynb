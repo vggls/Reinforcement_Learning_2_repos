{
 "cells": [
  {
   "cell_type": "markdown",
   "metadata": {},
   "source": [
    "## 1) Implementation of easy21\n",
    "\n",
    "First we need to develope an enviroment that implements the game \"easy21\". For this purpose we only need to define a step function, which performes a move in the game or a step in the MDP.\n",
    "\n",
    "Fistly we create a class to hold the state, for our conviniece. It should be noted that for the algorithms to be followed, it's convinient to use a single number to represent each state. What is more, it's helpful to include an virtual 'terminal' state. So our step function takes numbers as states and actions, internally converts them to *State* instances and *Strings*, and then back to numbers."
   ]
  },
  {
   "cell_type": "code",
   "execution_count": 1,
   "metadata": {},
   "outputs": [],
   "source": [
    "import numpy as np"
   ]
  },
  {
   "cell_type": "code",
   "execution_count": 2,
   "metadata": {},
   "outputs": [],
   "source": [
    "class State:\n",
    "    def __init__(self, dealer, player):\n",
    "        self.dealer = dealer\n",
    "        self.player = player\n"
   ]
  },
  {
   "cell_type": "code",
   "execution_count": 3,
   "metadata": {},
   "outputs": [],
   "source": [
    "def step(s, a):\n",
    "    \"\"\"\n",
    "    Takes as input a state and an action and \n",
    "    returns a new state and a reward.\n",
    "    \"\"\"\n",
    "    \n",
    "    # Just make sure our input have an actual meaning in the game setting\n",
    "    assert(s >= 0 and s <= 209)\n",
    "    assert(a >= 0 and a <= 1)\n",
    "    \n",
    "    # Convert numbers to State and String instances\n",
    "    state = State(s//21 + 1, s%21 + 1)\n",
    "    action = ['hit', 'stick'][a]\n",
    "    \n",
    "    if action == 'hit':\n",
    "        # Draw another card (e.g. [5, black])\n",
    "        new_card = [np.random.choice(np.arange(1, 11)),\n",
    "                    np.random.choice(['red', 'black'], p=[1/3, 2/3])]\n",
    "        \n",
    "        # Compute new state\n",
    "        new_state = State(state.dealer, state.player)\n",
    "        if new_card[1] == 'black':\n",
    "            new_state.player += new_card[0]\n",
    "        else:\n",
    "            new_state.player -= new_card[0]\n",
    "            \n",
    "        # Compute reward\n",
    "        if new_state.player > 21 or new_state.player < 1:\n",
    "            new_state = 'terminal'\n",
    "            reward = -1\n",
    "        else:\n",
    "            reward = 0\n",
    "    else:       \n",
    "        # Dealer starts taking turns\n",
    "        while (state.dealer < 17):\n",
    "            # Draw another card (e.g. [5, black])\n",
    "            new_card = [np.random.choice(np.arange(1, 11)),\n",
    "                        np.random.choice(['red', 'black'], p=[1/3, 2/3])]\n",
    "\n",
    "            # Compute new state\n",
    "            if new_card[1] == 'black':\n",
    "                state.dealer += new_card[0]\n",
    "            else:\n",
    "                state.dealer -= new_card[0]\n",
    "                \n",
    "        # Game has terminated\n",
    "        new_state = 'terminal'\n",
    "        \n",
    "        # Compute reward\n",
    "        if state.dealer > 21 or state.dealer < 1:\n",
    "            reward = 1\n",
    "        elif state.dealer > state.player:\n",
    "            reward = -1\n",
    "        elif state.dealer == state.player:\n",
    "            reward = 0\n",
    "        else:\n",
    "            reward = 1\n",
    "    \n",
    "    # Convert state back to number\n",
    "    if new_state == 'terminal':\n",
    "        new_state = 210\n",
    "    else:\n",
    "        new_state = (new_state.dealer-1) * 21 + (new_state.player-1)\n",
    "    \n",
    "    return new_state, reward"
   ]
  },
  {
   "cell_type": "markdown",
   "metadata": {},
   "source": [
    "## 2)Monte-Carlo Control in easy21\n",
    "\n",
    "We develope the Monte-Carlo algorithm below. The algorithm simulates playing the game a random initial position. Alternatively we could go for each initial position possible (e.g. all possible combinations of the first hands). It returns the policy learned plus its optimal values:"
   ]
  },
  {
   "cell_type": "code",
   "execution_count": 4,
   "metadata": {},
   "outputs": [],
   "source": [
    "def MonteCarlo(states, actions, startingStates, episodes):\n",
    "    '''\n",
    "    Uses q-Learning to computer the optimal policy for \n",
    "    the Easy-21 game\n",
    "    '''\n",
    "    N0 = 100\n",
    "    N = np.zeros(states.shape + actions.shape)\n",
    "    Q = np.zeros(states.shape + actions.shape)\n",
    "    Q_obs = np.zeros(states.shape + actions.shape)\n",
    "    \n",
    "    # Run the same simulations many times\n",
    "    for episode in range(episodes):\n",
    "        # Episode starts with player and dealer drawing a black card\n",
    "        s = np.random.choice(startingStates)\n",
    "        \n",
    "        while(True):\n",
    "            # Choose next move\n",
    "            epsilon = N0 / (N0 + np.sum(N[s, :]))\n",
    "            if np.random.rand() < epsilon:\n",
    "                a = np.random.choice(actions) # random action\n",
    "            else:\n",
    "                a = np.argmax(Q[s, :])        # optimal action\n",
    "\n",
    "            # Get next state\n",
    "            next_s, r = step(s, a)\n",
    "            N[s, a] += 1\n",
    "\n",
    "            # Exit upon arrival on the end state\n",
    "            Q_obs[s, a] = r + max(Q[next_s, :])\n",
    "\n",
    "            # Update\n",
    "            alpha = 1 / N[s, a]\n",
    "            Q[s, a] = (1 - alpha) * Q[s, a] + alpha * Q_obs[s, a]\n",
    "\n",
    "            if next_s == 210:\n",
    "                break\n",
    "            else:\n",
    "                s = next_s\n",
    "                \n",
    "    states = states[:-1] # exclude terminal state\n",
    "                  \n",
    "    # Optimal policy\n",
    "    V = np.zeros(states.shape)\n",
    "    policy = -np.ones(states.shape)\n",
    "    for s in states:\n",
    "        V[s] = np.max(Q[s, :])\n",
    "        policy[s] = np.argmax(Q[s, :])\n",
    "    \n",
    "    # Convert policies into tables with more natural meaning\n",
    "    return policy.reshape(10, 21), V.reshape(10, 21)\n"
   ]
  },
  {
   "cell_type": "markdown",
   "metadata": {},
   "source": [
    "It would be cool to have a visualization function for our results:"
   ]
  },
  {
   "cell_type": "code",
   "execution_count": 5,
   "metadata": {},
   "outputs": [],
   "source": [
    "import matplotlib.pyplot as plt\n",
    "from matplotlib import cm\n",
    "from mpl_toolkits.mplot3d import Axes3D\n",
    "\n",
    "def plot(V):\n",
    "    fig = plt.figure()\n",
    "    ax = fig.gca(projection='3d')\n",
    "\n",
    "    X, Y = np.meshgrid(np.arange(1, 11), np.arange(1, 22))\n",
    "    surf = ax.plot_surface(X, Y, V.transpose(),\n",
    "                           cmap=cm.coolwarm,\n",
    "                           linewidth=0,\n",
    "                           antialiased=False)"
   ]
  },
  {
   "cell_type": "markdown",
   "metadata": {},
   "source": [
    "We run the Monte-Carlo simulation 200 times (episodes) for each starting state."
   ]
  },
  {
   "cell_type": "code",
   "execution_count": 6,
   "metadata": {},
   "outputs": [],
   "source": [
    "states = np.arange(211)\n",
    "actions = np.arange(2)\n",
    "startingStates = []\n",
    "for i in np.arange(10):\n",
    "    for j in np.arange(10):\n",
    "        startingStates.append(i*21 + j)\n",
    "\n",
    "policy, V = MonteCarlo(states, actions, startingStates, 10000)"
   ]
  },
  {
   "cell_type": "markdown",
   "metadata": {},
   "source": [
    "Now lets see what our model learned. As we can see bellow the model assigns higher rewards to player states close to 21. What is more there is a bump in the middle signifying that the player has room to draw another card and obtain a score closer to 21. As we see the initial hand of the dealer doesn't provide any useful information, which makes sence.\n",
    "\n",
    "Finally about the policy we see that our model learns to 'hit' when the hand score is up to 17, but 'stick' when it's over that number."
   ]
  },
  {
   "cell_type": "code",
   "execution_count": 7,
   "metadata": {},
   "outputs": [
    {
     "name": "stdout",
     "output_type": "stream",
     "text": [
      "[[0. 0. 0. 0. 0. 0. 0. 0. 0. 0. 0. 0. 0. 0. 0. 0. 0. 1. 1. 1. 1.]\n",
      " [0. 0. 0. 0. 0. 0. 0. 0. 0. 0. 0. 0. 0. 0. 0. 0. 1. 1. 1. 1. 1.]\n",
      " [0. 0. 0. 0. 0. 0. 0. 0. 0. 0. 0. 0. 0. 0. 0. 0. 1. 1. 1. 1. 1.]\n",
      " [0. 0. 0. 0. 0. 0. 0. 0. 0. 0. 0. 0. 0. 0. 0. 0. 0. 1. 1. 1. 1.]\n",
      " [0. 1. 1. 0. 0. 0. 0. 0. 0. 0. 0. 0. 0. 0. 0. 0. 1. 1. 1. 1. 1.]\n",
      " [1. 0. 0. 0. 0. 0. 0. 0. 0. 0. 0. 0. 0. 0. 0. 0. 0. 1. 1. 1. 1.]\n",
      " [0. 0. 0. 0. 0. 0. 0. 0. 0. 0. 0. 0. 0. 0. 0. 0. 1. 1. 1. 1. 1.]\n",
      " [0. 0. 0. 0. 0. 0. 0. 0. 0. 0. 0. 0. 0. 0. 0. 0. 0. 1. 1. 1. 1.]\n",
      " [0. 0. 0. 0. 0. 0. 1. 0. 0. 0. 0. 0. 0. 0. 0. 0. 1. 1. 1. 1. 1.]\n",
      " [0. 1. 1. 0. 0. 0. 0. 0. 0. 0. 0. 0. 0. 0. 0. 0. 0. 1. 1. 1. 1.]]\n"
     ]
    },
    {
     "data": {
      "image/png": "[encoded data removed]",
      "text/plain": [
       "<Figure size 432x288 with 1 Axes>"
      ]
     },
     "metadata": {
      "needs_background": "light"
     },
     "output_type": "display_data"
    }
   ],
   "source": [
    "print(policy)\n",
    "plot(V)"
   ]
  }
 ],
 "metadata": {
  "kernelspec": {
   "display_name": "Python 3",
   "language": "python",
   "name": "python3"
  },
  "language_info": {
   "codemirror_mode": {
    "name": "ipython",
    "version": 3
   },
   "file_extension": ".py",
   "mimetype": "text/x-python",
   "name": "python",
   "nbconvert_exporter": "python",
   "pygments_lexer": "ipython3",
   "version": "3.7.3"
  }
 },
 "nbformat": 4,
 "nbformat_minor": 4
}
